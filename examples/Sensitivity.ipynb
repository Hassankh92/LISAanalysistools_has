{
 "cells": [
  {
   "cell_type": "code",
   "execution_count": 1,
   "id": "ca3835c7-1841-4867-9ab7-746014ab7907",
   "metadata": {},
   "outputs": [],
   "source": [
    "import matplotlib.pyplot as plt\n",
    "\n",
    "from lisatools.sensitivity import *\n",
    "from lisatools.utils.constants import *"
   ]
  },
  {
   "cell_type": "markdown",
   "id": "09448586-5434-485c-ac6b-7008ff6d200a",
   "metadata": {},
   "source": [
    "### LISA Sensitivity (averaged)"
   ]
  },
  {
   "cell_type": "code",
   "execution_count": null,
   "id": "45da173d-a63c-4767-b6e2-61bc67a626af",
   "metadata": {},
   "outputs": [],
   "source": []
  }
 ],
 "metadata": {
  "kernelspec": {
   "display_name": "Python 3 (ipykernel)",
   "language": "python",
   "name": "python3"
  },
  "language_info": {
   "codemirror_mode": {
    "name": "ipython",
    "version": 3
   },
   "file_extension": ".py",
   "mimetype": "text/x-python",
   "name": "python",
   "nbconvert_exporter": "python",
   "pygments_lexer": "ipython3",
   "version": "3.12.1"
  }
 },
 "nbformat": 4,
 "nbformat_minor": 5
}
